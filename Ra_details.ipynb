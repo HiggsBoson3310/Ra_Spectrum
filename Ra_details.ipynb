{
 "cells": [
  {
   "cell_type": "code",
   "execution_count": 6,
   "metadata": {},
   "outputs": [],
   "source": [
    "import numpy as np\n",
    "CMperAU = 2.194746313632e5 "
   ]
  },
  {
   "cell_type": "code",
   "execution_count": 13,
   "metadata": {},
   "outputs": [],
   "source": [
    "RaI = 42573.36\n",
    "RaII = 81842.5\n",
    "\n",
    "levels = {'S12':(0-RaII)/CMperAU,\n",
    "          'D32':(12084.2721-RaII)/CMperAU, 'D52':(13742.99-RaII)/CMperAU, \n",
    "          'P12':(21351.3259-RaII)/CMperAU, 'P32':(26208.8538-RaII)/CMperAU}"
   ]
  },
  {
   "cell_type": "code",
   "execution_count": 14,
   "metadata": {},
   "outputs": [
    {
     "data": {
      "text/plain": [
       "-0.5668803689393561"
      ]
     },
     "execution_count": 14,
     "metadata": {},
     "output_type": "execute_result"
    }
   ],
   "source": [
    "(-RaI-RaII)/CMperAU"
   ]
  },
  {
   "cell_type": "code",
   "execution_count": 15,
   "metadata": {},
   "outputs": [
    {
     "data": {
      "text/plain": [
       "{'S12': -0.3729018679364452,\n",
       " 'D32': -0.317841872961435,\n",
       " 'D52': -0.31028419811902896,\n",
       " 'P12': -0.27561806904186353,\n",
       " 'P32': -0.25348554342909024}"
      ]
     },
     "execution_count": 15,
     "metadata": {},
     "output_type": "execute_result"
    }
   ],
   "source": [
    "levels"
   ]
  },
  {
   "cell_type": "code",
   "execution_count": 11,
   "metadata": {},
   "outputs": [
    {
     "data": {
      "text/plain": [
       "-0.6774129159099197"
      ]
     },
     "execution_count": 11,
     "metadata": {},
     "output_type": "execute_result"
    }
   ],
   "source": [
    "(-50443.2-98231.75)/CMperAU"
   ]
  },
  {
   "cell_type": "code",
   "execution_count": 12,
   "metadata": {},
   "outputs": [
    {
     "data": {
      "text/plain": [
       "-0.44757678548023216"
      ]
     },
     "execution_count": 12,
     "metadata": {},
     "output_type": "execute_result"
    }
   ],
   "source": [
    "(-98231.75)/CMperAU"
   ]
  },
  {
   "cell_type": "code",
   "execution_count": 10,
   "metadata": {},
   "outputs": [
    {
     "data": {
      "text/plain": [
       "{'S12': -0.5668803689393561,\n",
       " 'D32': -0.511820373964346,\n",
       " 'D52': -0.5042626991219399,\n",
       " 'P12': -0.4695965700447745,\n",
       " 'P32': -0.44746404443200116}"
      ]
     },
     "execution_count": 10,
     "metadata": {},
     "output_type": "execute_result"
    }
   ],
   "source": [
    "levels"
   ]
  },
  {
   "cell_type": "code",
   "execution_count": null,
   "metadata": {},
   "outputs": [],
   "source": []
  }
 ],
 "metadata": {
  "kernelspec": {
   "display_name": "Python 3.8.12 ('py38')",
   "language": "python",
   "name": "python3"
  },
  "language_info": {
   "codemirror_mode": {
    "name": "ipython",
    "version": 3
   },
   "file_extension": ".py",
   "mimetype": "text/x-python",
   "name": "python",
   "nbconvert_exporter": "python",
   "pygments_lexer": "ipython3",
   "version": "3.8.12 | packaged by conda-forge | (default, Jan 30 2022, 23:13:24) \n[Clang 11.1.0 ]"
  },
  "orig_nbformat": 4,
  "vscode": {
   "interpreter": {
    "hash": "59a558568605423ab6f79dac0715f3952d12f55b48028e17bdfa000f6455227f"
   }
  }
 },
 "nbformat": 4,
 "nbformat_minor": 2
}
